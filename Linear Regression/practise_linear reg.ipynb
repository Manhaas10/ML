{
 "cells": [
  {
   "cell_type": "code",
   "execution_count": 1,
   "metadata": {},
   "outputs": [],
   "source": [
    "import numpy as np\n",
    "import pandas as pd\n",
    "import matplotlib.pyplot as plt\n",
    "\n"
   ]
  },
  {
   "cell_type": "code",
   "execution_count": 4,
   "metadata": {},
   "outputs": [],
   "source": [
    "data=pd.read_csv('Concrete_Data.csv')\n",
    "data.insert(0,'int',1)\n",
    "df=pd.DataFrame(data)\n",
    "x=df[['int','cement','blast_furnace_slag','fly_ash','water','superplasticizer','coarse_aggregate','fine_aggregate','age']].values\n",
    "y=df['concrete_compressive_strength'].values.reshape(-1,1)\n",
    "it=10000\n",
    "alpha=0.0001\n",
    "def costf(lr,it,x,y):\n",
    "    teta=np.zeros((x.shape[0],1))\n",
    "    m=len(y)\n",
    "    cost=[]\n",
    "    for i in range(it):\n",
    "        \n",
    "                 "
   ]
  }
 ],
 "metadata": {
  "kernelspec": {
   "display_name": ".venv",
   "language": "python",
   "name": "python3"
  },
  "language_info": {
   "codemirror_mode": {
    "name": "ipython",
    "version": 3
   },
   "file_extension": ".py",
   "mimetype": "text/x-python",
   "name": "python",
   "nbconvert_exporter": "python",
   "pygments_lexer": "ipython3",
   "version": "3.11.9"
  }
 },
 "nbformat": 4,
 "nbformat_minor": 2
}
